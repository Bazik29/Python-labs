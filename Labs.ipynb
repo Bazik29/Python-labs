{
 "cells": [
  {
   "cell_type": "markdown",
   "metadata": {},
   "source": [
    "# Лабораторная работа №0\n",
    "\n",
    "Cохранить алфавит в строку и вывести его в обратном порядке выполнив замену гласных и согласных на соответсвующие пары."
   ]
  },
  {
   "cell_type": "code",
   "execution_count": 10,
   "metadata": {},
   "outputs": [
    {
     "name": "stdout",
     "output_type": "stream",
     "text": [
      "абвгдеёжзийклмнопрстуфхцчшщъыьэюя\n",
      "ауеьиъщжчцхвюдзрбёнмлгйысшоэткфпя\n"
     ]
    }
   ],
   "source": [
    "alph = ('а', 'б', 'в', 'г', 'д', 'е', 'ё', 'ж', 'з', 'и', 'й', 'к', 'л', 'м', 'н', 'о', 'п', 'р', 'с', 'т', 'у', 'ф', 'х', 'ц', 'ч', 'ш', 'щ', 'ъ', 'ы', 'ь', 'э', 'ю', 'я')\n",
    "\n",
    "str1 = \"\".join(alph)\n",
    "\n",
    "print(str1)\n",
    "\n",
    "a_pairs = {'а':'я', 'о':'ё', 'у':'ю', 'э':'е', 'ы':'и', 'б':'п', 'в':'ф', 'г':'к', 'д':'т', 'ж':'ш', 'з':'с'}\n",
    "\n",
    "pairs_2 = dict(zip(a_pairs.values(), a_pairs.keys()))\n",
    "\n",
    "a_pairs.update(pairs_2)\n",
    "#print(a_pairs)\n",
    "res = list(reversed(alph))\n",
    "\n",
    "for i in range(len(res)):\n",
    "  res[i] = a_pairs.get(res[i], res[i])\n",
    "\n",
    "str2 = \"\".join(res)\n",
    "\n",
    "print(str2)\n"
   ]
  },
  {
   "cell_type": "markdown",
   "metadata": {},
   "source": [
    "## Вариант 3\n",
    "# Лабораторная работа №1\n",
    "\n",
    "1.1 В своем ФИО заменить гласные, согласные соответствующими парными (кроме сонорных).  Вычислить количество вхождений каждой буквы ФИО."
   ]
  },
  {
   "cell_type": "code",
   "execution_count": 11,
   "metadata": {},
   "outputs": [
    {
     "name": "stdout",
     "output_type": "stream",
     "text": [
      "гёмёлих ыкёрь ёлэкёфыч\n",
      "[('р', 1.0), ('ё', 5.0), ('ч', 1.0), ('ф', 1.0), ('м', 1.0), ('л', 2.0), ('ы', 2.0), ('и', 1.0), ('х', 1.0), ('г', 1.0), ('ь', 1.0), ('к', 2.0), ('э', 1.0)]\n"
     ]
    }
   ],
   "source": [
    "import numpy as np\n",
    "fio_str = \"Комолых Игорь Олегович\"\n",
    "fio_arr = list(fio_str.lower())\n",
    "count_map = dict(zip(alph, np.zeros(len(alph))))\n",
    "for i in range(len(fio_arr)):\n",
    "    if (fio_arr[i] != \" \"):\n",
    "        fio_arr[i] = a_pairs.get(fio_arr[i], fio_arr[i])\n",
    "        count_map[fio_arr[i]] += 1\n",
    "print(''.join(fio_arr))\n",
    "#print(count_map)\n",
    "print(list(filter(lambda x:  x[1] > 0, count_map.items())))"
   ]
  },
  {
   "cell_type": "markdown",
   "metadata": {},
   "source": [
    "2.2 Перевести в 8, 16, 32 систему счисления сумму чисел даты, месяца и года рождения."
   ]
  },
  {
   "cell_type": "code",
   "execution_count": 12,
   "metadata": {},
   "outputs": [
    {
     "name": "stdout",
     "output_type": "stream",
     "text": [
      "10 : 2017\n",
      " 8 : 0o3741\n",
      "16 : 0x7e1\n",
      "32 : 1v1\n"
     ]
    }
   ],
   "source": [
    "d_date = 10\n",
    "m_date = 10\n",
    "y_date = 1997\n",
    "sum_date = d_date + m_date + y_date\n",
    "\n",
    "def convert_base(num, to_base=10, from_base=10):\n",
    "    if isinstance(num, str):\n",
    "        n = int(num, from_base)\n",
    "    else:\n",
    "        n = int(num)\n",
    "    alphabet = \"0123456789abcdefghijklmnopqrstuvwxyz\"\n",
    "    if n < to_base:\n",
    "        return alphabet[n]\n",
    "    else:\n",
    "        return convert_base(n // to_base, to_base) + alphabet[n % to_base]\n",
    "\n",
    "print(\"10 : {:d}\".format(sum_date))\n",
    "print(\" 8 : {:s}\".format(oct(sum_date)))\n",
    "print(\"16 : {:s}\".format(hex(sum_date)))\n",
    "print(\"32 : {:s}\".format(convert_base(sum_date, to_base=32)))"
   ]
  },
  {
   "cell_type": "markdown",
   "metadata": {},
   "source": [
    "# Лабораторная работа №2\n",
    "\n",
    "Вычислите переменную Y по одному из выражений, в зависимости от значения X. Выведите результат на экран. \n",
    "Для тех заданий, где варианты X охватывают не все возможные значения этой переменной (например номер месяца - целее число только от 1 до 12, а не любое другое число) предусмотреть вывод сообщения: \"Нет решения для данного значения x\"\n",
    "\n",
    "|               Условие X              |       Y      |\n",
    "|:------------------------------------:|:------------:|\n",
    "| X – дата меньше 01.01.1900           | Y = \"19 век\" |\n",
    "| X – дата от 01.01.1900 до 31.12.1999 | Y = \"20 век\" |\n",
    "| X – дата начиная с 01.01.2000        | Y = \"21 век\" |\n"
   ]
  },
  {
   "cell_type": "code",
   "execution_count": 26,
   "metadata": {},
   "outputs": [
    {
     "name": "stdout",
     "output_type": "stream",
     "text": [
      "19 век\n",
      "20 век\n",
      "21 век\n",
      "Введите дату: 12.12.2001\n",
      "21 век\n"
     ]
    }
   ],
   "source": [
    "from datetime import datetime\n",
    "\n",
    "def print_centry(date_str):\n",
    "    datetime_object = datetime.strptime(date_str, '%d.%m.%Y')\n",
    "    if (datetime_object < datetime(1900, 1, 1)):\n",
    "        print(\"19 век\")\n",
    "    elif (datetime_object > datetime(1900, 1, 1) and datetime_object < datetime(1999, 12, 31)):\n",
    "        print(\"20 век\")\n",
    "    elif (datetime_object > datetime(2000, 1, 1)):\n",
    "        print(\"21 век\")\n",
    "\n",
    "print_centry(\"12.10.1899\")\n",
    "print_centry(\"25.09.1991\")\n",
    "print_centry(\"04.02.2007\")\n",
    "\n",
    "data_str = input(\"Введите дату: \")\n",
    "print_centry(data_str)"
   ]
  },
  {
   "cell_type": "markdown",
   "metadata": {},
   "source": [
    "# Лабораторная работа №3\n",
    "\n",
    "Вычислите число π по итерационной формуле с номером, соответствующим номеру вашего варианта, с абсолютной погрешностью вычисления от 10^{-5} до 10^{-16}. Найдите величину погрешности, при которой в числе π постоянными остаются 7 знаков после запятой. Определите программно время расчета для каждого варианта, выведите расчетные значения π, n и продолжительность расчета для различной погрешности.\n",
    "$$\\frac{\\pi}{4}=\\sum_{n=0}^{\\infty}\\frac{(-1)^n}{2n+1}$$"
   ]
  },
  {
   "cell_type": "code",
   "execution_count": 23,
   "metadata": {},
   "outputs": [
    {
     "name": "stdout",
     "output_type": "stream",
     "text": [
      "Эталон Пи: 3.141592653589793\n",
      "Start time: Sat Mar 10 02:25:08 2018\n",
      "EPS = 0.00001\n",
      "End time: Sat Mar 10 02:25:08 2018\n",
      "Время выполнения функции: 0.09355735778808594 сек\n",
      "10^-5 Число Пи: 3.14160\n"
     ]
    }
   ],
   "source": [
    "import time\n",
    "import math\n",
    "\n",
    "def timer(func):\n",
    "    def wrapper(arg):\n",
    "        t = time.time()\n",
    "        print(\"Start time:\", time.ctime(t))\n",
    "        res = func(arg)\n",
    "        print(\"End time:\", time.ctime(t))\n",
    "        print(\"Время выполнения функции: {} сек\".format((time.time() - t)))\n",
    "        return res\n",
    "    return wrapper\n",
    "\n",
    "def summ(n):\n",
    "    #return (-1)**n/(2.*n + 1)\n",
    "    return (-1)**(n%2)/(2.*n + 1)\n",
    "\n",
    "@timer\n",
    "def calcPi(znak):\n",
    "    n, s, s1, s2 = 0, 0, 0, 0\n",
    "    t = time.time()\n",
    "    eps = 10**(-znak)\n",
    "    diff = 0\n",
    "    print(\"EPS = {eps:.{znak}f}\".format(**vars()))\n",
    "    while (True):\n",
    "        s1 = summ(n)\n",
    "        s2 = summ(n + 1)\n",
    "        s += s1\n",
    "        n += 1\n",
    "        diff = abs(s2 - s1)\n",
    "        if time.time() - t > 60:\n",
    "            t = time.time()\n",
    "            print(\"eps = {diff:.{znak}f}\".format(**vars()))\n",
    "        if diff <= eps:\n",
    "            break\n",
    "    return 4*s\n",
    "\n",
    "znak = 5\n",
    "print(\"Эталон Пи: {:.15f}\".format(math.pi))\n",
    "pi = calcPi(znak)\n",
    "print('10^-{znak} Число Пи: {pi:.{znak}f}'.format(**vars()))"
   ]
  },
  {
   "cell_type": "markdown",
   "metadata": {},
   "source": [
    "# Лабораторная работа №4\n",
    "\n",
    "С использованием цикла и модуля random сгенерировать массивы из n действительных чисел, необходимые для вычисления по формуле соответсвующей вашему варианту. Программу выполнить несколько раз для различных значений n. Исходные данные и результат вывести на экран.\n",
    "$$c_{i}=a_{i}*b_{i}$$"
   ]
  },
  {
   "cell_type": "code",
   "execution_count": 19,
   "metadata": {},
   "outputs": [
    {
     "name": "stdout",
     "output_type": "stream",
     "text": [
      "Введите n: 5\n",
      "a = [0.62920797 0.75534704 0.71826807 0.63424474 0.32985026]\n",
      "b = [0.39406836 0.70173891 0.55009671 0.00804231 0.15862786]\n",
      "c = [0.24795095 0.53005641 0.3951169  0.00510079 0.05232344]\n"
     ]
    }
   ],
   "source": [
    "import numpy as np\n",
    "\n",
    "n = int(input(\"Введите n: \"))\n",
    "\n",
    "a = np.random.random(n)\n",
    "b = np.random.random(n)\n",
    "\n",
    "c = a * b\n",
    "print(\"a =\", a)\n",
    "print(\"b =\", b)\n",
    "print(\"c =\", c)\n"
   ]
  },
  {
   "cell_type": "markdown",
   "metadata": {},
   "source": [
    "# Лабораторная работа №5\n",
    "\n",
    "Реализовать графический интерфейс к лабораторной №3 и №4"
   ]
  },
  {
   "cell_type": "code",
   "execution_count": 2,
   "metadata": {},
   "outputs": [
    {
     "name": "stdout",
     "output_type": "stream",
     "text": [
      "/home/bazik/Projects/Python-labs/lab_05\n",
      "/home/bazik/Projects/Python-labs\n"
     ]
    }
   ],
   "source": [
    "%cd lab_05\n",
    "%run lab_03.py\n",
    "%cd .."
   ]
  },
  {
   "cell_type": "code",
   "execution_count": 3,
   "metadata": {},
   "outputs": [
    {
     "name": "stdout",
     "output_type": "stream",
     "text": [
      "/home/bazik/Projects/Python-labs/lab_05\n",
      "/home/bazik/Projects/Python-labs\n"
     ]
    }
   ],
   "source": [
    "%cd lab_05\n",
    "%run lab_04.py\n",
    "%cd .."
   ]
  },
  {
   "cell_type": "markdown",
   "metadata": {},
   "source": [
    "# Лабораторная работа №6\n",
    "\n",
    "Напишите программу для вычисления y по математическому выражению, соответсвующему вашему варианту. **Для ввода и вывода использовать графический интерфейс**.\n",
    "$$\n",
    "y=\\lg\\frac{a + \\sin b}{\\cos 2a} + \\sqrt[4]{5+\\sqrt{2+c}}\n",
    "\\\\\n",
    "a=0.785;\\ b=1.5708;\\ c=3.777\n",
    "\\\\\n",
    "y=5.00\n",
    "$$"
   ]
  },
  {
   "cell_type": "code",
   "execution_count": 33,
   "metadata": {},
   "outputs": [
    {
     "name": "stdout",
     "output_type": "stream",
     "text": [
      "5.000075510946764\n"
     ]
    }
   ],
   "source": [
    "import math\n",
    "def func_6(a, b, c):\n",
    "    return math.log((a + math.sin(b))/math.cos(2*a), 10) + math.pow(5+math.pow(2 + c, 1./2), 1./4)\n",
    "    \n",
    "a = 0.785\n",
    "b = 1.5708\n",
    "c = 3.777\n",
    "\n",
    "y = func_6(a, b, c)\n",
    "print(y)"
   ]
  },
  {
   "cell_type": "code",
   "execution_count": 1,
   "metadata": {},
   "outputs": [
    {
     "name": "stdout",
     "output_type": "stream",
     "text": [
      "/home/bazik/Projects/Python-labs/lab_06\n",
      "/home/bazik/Projects/Python-labs\n"
     ]
    }
   ],
   "source": [
    "%cd lab_06\n",
    "%run lab_06.py\n",
    "%cd .."
   ]
  },
  {
   "cell_type": "markdown",
   "metadata": {},
   "source": [
    "# Лабораторная работа №7\n",
    "\n",
    "Определить позиции всех пробелов в строке, состоящей из любого числа слов. **Для ввода и вывода использовать графический интерфейс**."
   ]
  },
  {
   "cell_type": "code",
   "execution_count": 10,
   "metadata": {},
   "outputs": [
    {
     "name": "stdout",
     "output_type": "stream",
     "text": [
      "16, 21, 36, 50, 52, 62, 74, 89, 102, 108, 114, 120, 138, 150, 157, 159, 164, 167\n"
     ]
    }
   ],
   "source": [
    "text = \"Экспоненциальное (или показательное) распределение — абсолютно непрерывное распределение, моделирующее время между двумя последовательными свершениями одного и того же события.\"\n",
    "\n",
    "sp_list = []\n",
    "for i in range(len(text)):\n",
    "    if text[i] == \" \":\n",
    "        sp_list.append(i)\n",
    "\n",
    "print(\", \".join(str(v) for v in sp_list))"
   ]
  },
  {
   "cell_type": "code",
   "execution_count": null,
   "metadata": {},
   "outputs": [],
   "source": [
    "%cd lab_07\n",
    "%run lab_07.py\n",
    "%cd .."
   ]
  },
  {
   "cell_type": "markdown",
   "metadata": {},
   "source": [
    "# Лабораторная работа №8\n",
    "\n",
    " Задайте в рограмме строковую переменную, значение которой равно текущему времени с точностью секунд. Преобразуйте значение переменной в подтип *время*. Вычислите количество секунд оставшихся до донца суток. **Для ввода и вывода использовать графический интерфейс**."
   ]
  },
  {
   "cell_type": "code",
   "execution_count": 3,
   "metadata": {},
   "outputs": [
    {
     "name": "stdout",
     "output_type": "stream",
     "text": [
      "86231\n"
     ]
    }
   ],
   "source": [
    "import datetime\n",
    "import time\n",
    "\n",
    "time_str = datetime.datetime.now().strftime(\"%X\")\n",
    "\n",
    "now_time = datetime.datetime.strptime(time_str, \"%X\")\n",
    "end_day = now_time.replace(hour=23, minute=59, second=59)\n",
    "\n",
    "delta = end_day - now_time\n",
    "seconds = delta.seconds + 1\n",
    "\n",
    "print(seconds)"
   ]
  },
  {
   "cell_type": "code",
   "execution_count": null,
   "metadata": {},
   "outputs": [],
   "source": [
    "%cd lab_08\n",
    "%run lab_08.py\n",
    "%cd .."
   ]
  },
  {
   "cell_type": "markdown",
   "metadata": {},
   "source": [
    "# Лабораторная работа №9\n",
    "\n",
    "Показать результаты логического выражения, а также результаты сравнения правой и левой части. **Для вывода использовать графический интерфейс**.\n",
    "\n",
    "\"Правда\" > \"Ложь\" или True не равно False"
   ]
  },
  {
   "cell_type": "code",
   "execution_count": 4,
   "metadata": {},
   "outputs": [
    {
     "name": "stdout",
     "output_type": "stream",
     "text": [
      "True\n",
      "True\n",
      "True\n"
     ]
    }
   ],
   "source": [
    "res = \"Правда\" > \"Ложь\" or True != False\n",
    "res_left = \"Правда\" > \"Ложь\"\n",
    "res_right = True != False\n",
    "print(res_left)\n",
    "print(res_right)\n",
    "print(res)"
   ]
  },
  {
   "cell_type": "code",
   "execution_count": 4,
   "metadata": {},
   "outputs": [
    {
     "name": "stdout",
     "output_type": "stream",
     "text": [
      "/home/bazik/Projects/Python-labs/lab_09\n",
      "/home/bazik/Projects/Python-labs\n"
     ]
    }
   ],
   "source": [
    "%cd lab_09\n",
    "%run lab_09.py\n",
    "%cd .."
   ]
  },
  {
   "cell_type": "code",
   "execution_count": null,
   "metadata": {},
   "outputs": [],
   "source": []
  }
 ],
 "metadata": {
  "kernelspec": {
   "display_name": "Python 3",
   "language": "python",
   "name": "python3"
  },
  "language_info": {
   "codemirror_mode": {
    "name": "ipython",
    "version": 3
   },
   "file_extension": ".py",
   "mimetype": "text/x-python",
   "name": "python",
   "nbconvert_exporter": "python",
   "pygments_lexer": "ipython3",
   "version": "3.5.2"
  }
 },
 "nbformat": 4,
 "nbformat_minor": 2
}
