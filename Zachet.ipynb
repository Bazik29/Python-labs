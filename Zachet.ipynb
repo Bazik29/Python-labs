{
 "cells": [
  {
   "cell_type": "markdown",
   "metadata": {},
   "source": [
    "# Вариант 10\n",
    "\n",
    "Обработайте статистические данные 100 независимых измерений некоторой физической величины Х.\n",
    "\n",
    "1) Составьте статистическое распределение частот выборки Х.\n",
    "\n",
    "2) Найдите эмпирическую функцию распределения и постройте ее график.\n",
    "\n",
    "3) Постройте полигон и гистограмму относительных частот.\n",
    "\n",
    "4) Вычислите числовые характеристики:\n",
    "- выборочную среднюю;\n",
    "- выборочную дисперсию;\n",
    "- выборочное среднее квадратическое отклонение;\n",
    "- коэффициенты эксцесса и ассиметрии.\n",
    "\n",
    "5) Выдвинув гипотезу о нормальном распределении, проверьте ее критерием согласия Пирсона при уровне значимости а = 0.05.\n",
    "\n",
    "6) Найдите точечные и интервальные оценки параметров распределения (доверительную вероятность принять равной 0.95).\n",
    "\n",
    "7) Сделать регрессионный анализ.\n",
    "\n",
    "8) Сделать дисперсионный анализ."
   ]
  },
  {
   "cell_type": "code",
   "execution_count": 1,
   "metadata": {},
   "outputs": [],
   "source": [
    "import warnings\n",
    "warnings.filterwarnings('ignore')\n",
    "import pandas as pd\n",
    "import numpy as np\n",
    "import matplotlib.pyplot as plt\n",
    "from scipy.stats.contingency import expected_freq\n",
    "from scipy import stats\n",
    "import statsmodels.api as sm\n",
    "from sklearn.linear_model import LinearRegression\n",
    "from statsmodels.formula.api import ols\n",
    "%matplotlib inline"
   ]
  },
  {
   "cell_type": "markdown",
   "metadata": {},
   "source": [
    "### Загрузка данных из файла"
   ]
  },
  {
   "cell_type": "code",
   "execution_count": 2,
   "metadata": {},
   "outputs": [
    {
     "data": {
      "text/html": [
       "<div>\n",
       "<style scoped>\n",
       "    .dataframe tbody tr th:only-of-type {\n",
       "        vertical-align: middle;\n",
       "    }\n",
       "\n",
       "    .dataframe tbody tr th {\n",
       "        vertical-align: top;\n",
       "    }\n",
       "\n",
       "    .dataframe thead th {\n",
       "        text-align: right;\n",
       "    }\n",
       "</style>\n",
       "<table border=\"1\" class=\"dataframe\">\n",
       "  <thead>\n",
       "    <tr style=\"text-align: right;\">\n",
       "      <th></th>\n",
       "      <th>x</th>\n",
       "      <th>y</th>\n",
       "    </tr>\n",
       "  </thead>\n",
       "  <tbody>\n",
       "    <tr>\n",
       "      <th>0</th>\n",
       "      <td>172</td>\n",
       "      <td>63</td>\n",
       "    </tr>\n",
       "    <tr>\n",
       "      <th>1</th>\n",
       "      <td>164</td>\n",
       "      <td>60</td>\n",
       "    </tr>\n",
       "    <tr>\n",
       "      <th>2</th>\n",
       "      <td>164</td>\n",
       "      <td>53</td>\n",
       "    </tr>\n",
       "    <tr>\n",
       "      <th>3</th>\n",
       "      <td>161</td>\n",
       "      <td>60</td>\n",
       "    </tr>\n",
       "    <tr>\n",
       "      <th>4</th>\n",
       "      <td>172</td>\n",
       "      <td>66</td>\n",
       "    </tr>\n",
       "  </tbody>\n",
       "</table>\n",
       "</div>"
      ],
      "text/plain": [
       "     x   y\n",
       "0  172  63\n",
       "1  164  60\n",
       "2  164  53\n",
       "3  161  60\n",
       "4  172  66"
      ]
     },
     "execution_count": 2,
     "metadata": {},
     "output_type": "execute_result"
    }
   ],
   "source": [
    "data=pd.read_csv('data.txt')\n",
    "data.head()"
   ]
  },
  {
   "cell_type": "markdown",
   "metadata": {},
   "source": [
    "### Гистограмма величин X"
   ]
  },
  {
   "cell_type": "code",
   "execution_count": 3,
   "metadata": {},
   "outputs": [
    {
     "data": {
      "image/png": "[encoded data removed]",
      "text/plain": [
       "<Figure size 432x288 with 1 Axes>"
      ]
     },
     "metadata": {},
     "output_type": "display_data"
    }
   ],
   "source": [
    "plt.hist(data['x'],50, normed='True')\n",
    "plt.show()"
   ]
  },
  {
   "cell_type": "markdown",
   "metadata": {},
   "source": [
    "## 1) Составьте статистическое распределение частот выборки Х\n",
    "\n",
    "Чтобы построить статистическое распределение частот выборки, необходимо определить максимальное и минимальное значение величины, разницу между минимумом и максимумом. Число интервалов найдем с помощью формулы Страджесса:\n",
    "$$k=3,31*lgn+1$$\n",
    "Шаг найдем по следующей формуле:\n",
    "$$h=\\frac{R}{k}$$"
   ]
  },
  {
   "cell_type": "code",
   "execution_count": 4,
   "metadata": {},
   "outputs": [
    {
     "name": "stdout",
     "output_type": "stream",
     "text": [
      "Max X: 185\n",
      "Min X: 156\n",
      "Разница max и min: 29\n",
      "Кол-во отрезков: 8\n",
      "Шаг: 3\n"
     ]
    }
   ],
   "source": [
    "X_max = max(data['x'])\n",
    "X_min = min(data['x'])\n",
    "R = X_max -X_min\n",
    "K = int(round(1.0 + 3.32 * np.log10(100)))\n",
    "H = int(R / K)\n",
    "\n",
    "print(\"Max X:\", X_max)\n",
    "print(\"Min X:\", X_min)\n",
    "print(\"Разница max и min:\", R)         \n",
    "print(\"Кол-во отрезков:\", K)\n",
    "print(\"Шаг:\", H)             "
   ]
  },
  {
   "cell_type": "markdown",
   "metadata": {},
   "source": [
    "Теперь, зная все нужные параметры, можно рассчитать частоты по интервалам."
   ]
  },
  {
   "cell_type": "code",
   "execution_count": 5,
   "metadata": {},
   "outputs": [
    {
     "name": "stdout",
     "output_type": "stream",
     "text": [
      "Частоты по интервалам: [0.07, 0.09, 0.19, 0.18, 0.19, 0.15, 0.07, 0.03]\n",
      "Сумма частот: 1\n"
     ]
    }
   ],
   "source": [
    "def intervals_cumsum(x_min, step, size):\n",
    "    start=x_min\n",
    "    a=[]\n",
    "    b=[]\n",
    "    for i in range(size):\n",
    "        a.append(start)\n",
    "        start+=step\n",
    "        b.append(start)\n",
    "    return a,b\n",
    "\n",
    "def count_values(data,element):\n",
    "    count=0\n",
    "    counts=[]\n",
    "    for item in data['x']:\n",
    "        if item<=element:\n",
    "            count+=1\n",
    "    return count\n",
    "   \n",
    "def counter_in(data, b):\n",
    "    delta=[];f=0\n",
    "    for index in range(len(b)):\n",
    "        first=count_values(data,b[index])-f\n",
    "        delta.append(first)\n",
    "        f+=first\n",
    "    return delta\n",
    "     \n",
    "def frequences(ni, n):\n",
    "    freq=[]\n",
    "    for item in ni:\n",
    "        freq.append(item/n)\n",
    "    return freq\n",
    "        \n",
    "a, b = intervals_cumsum(X_min, H, K)\n",
    "ni = counter_in(data, b)\n",
    "freq = frequences(ni, 100)\n",
    "print('Частоты по интервалам:', freq)\n",
    "print('Сумма частот:', round(sum(freq)))"
   ]
  },
  {
   "cell_type": "markdown",
   "metadata": {},
   "source": [
    "## 2) Найдите эмпирическую функцию распределения и постройте ее график."
   ]
  },
  {
   "cell_type": "markdown",
   "metadata": {},
   "source": [
    "С помощью модуля distributions библиотеки statsmodels построим график функции распределения."
   ]
  },
  {
   "cell_type": "code",
   "execution_count": 6,
   "metadata": {},
   "outputs": [
    {
     "data": {
      "image/png": "[encoded data removed]",
      "text/plain": [
       "<Figure size 432x288 with 1 Axes>"
      ]
     },
     "metadata": {},
     "output_type": "display_data"
    }
   ],
   "source": [
    "graph = sm.distributions.ECDF(data['x'])\n",
    "x = np.linspace(min(data['x']), max(data['x']))\n",
    "y = graph(x)\n",
    "plt.step(x, y)\n",
    "plt.show()"
   ]
  },
  {
   "cell_type": "markdown",
   "metadata": {},
   "source": [
    "## 3) Постройте полигон и гистограмму относительных частот."
   ]
  },
  {
   "cell_type": "code",
   "execution_count": 7,
   "metadata": {
    "scrolled": true
   },
   "outputs": [
    {
     "data": {
      "image/png": "[encoded data removed]",
      "text/plain": [
       "<Figure size 432x288 with 1 Axes>"
      ]
     },
     "metadata": {},
     "output_type": "display_data"
    }
   ],
   "source": [
    "x=np.linspace(0,25,8)\n",
    "plt.plot(x, freq)\n",
    "plt.title(u'Полигон')\n",
    "plt.show()"
   ]
  },
  {
   "cell_type": "code",
   "execution_count": 8,
   "metadata": {
    "scrolled": false
   },
   "outputs": [
    {
     "data": {
      "image/png": "[encoded data removed]",
      "text/plain": [
       "<Figure size 432x288 with 1 Axes>"
      ]
     },
     "metadata": {},
     "output_type": "display_data"
    }
   ],
   "source": [
    "plt.hist(x, 10, weights=freq)\n",
    "plt.title(u'Гистограмма')\n",
    "plt.show()"
   ]
  },
  {
   "cell_type": "markdown",
   "metadata": {},
   "source": [
    "## 4) Вычислите числовые характеристики."
   ]
  },
  {
   "cell_type": "markdown",
   "metadata": {},
   "source": [
    "***Мода***     \n",
    "Модой распределения называется такая величина изучаемого признака, которая в данной совокупности встречается наиболее часто, т.е. один из вариантов признака повторяется чаще, чем все другие.\n",
    "\n",
    "Мода выборки вычисляется с помощью модуля stats библиотеки scipy."
   ]
  },
  {
   "cell_type": "code",
   "execution_count": 9,
   "metadata": {},
   "outputs": [
    {
     "name": "stdout",
     "output_type": "stream",
     "text": [
      "Мода выборки: 167\n"
     ]
    }
   ],
   "source": [
    "print(\"Мода выборки:\", stats.mode(data['x']).mode[0])"
   ]
  },
  {
   "cell_type": "markdown",
   "metadata": {},
   "source": [
    "***Медиана***    \n",
    "Медиана - это значение признака, приходящееся на середину ряда, расположенного в порядке возрастания или убывания числовых значений признака.\n",
    "\n",
    "Медиана вычисляется с помощью функции median() библиотеки numpy."
   ]
  },
  {
   "cell_type": "code",
   "execution_count": 10,
   "metadata": {},
   "outputs": [
    {
     "name": "stdout",
     "output_type": "stream",
     "text": [
      "Медиана: 168.0\n"
     ]
    }
   ],
   "source": [
    "print(\"Медиана:\", np.median(data['x']))"
   ]
  },
  {
   "cell_type": "markdown",
   "metadata": {},
   "source": [
    "***Среднее значение***    \n",
    "Среднее значение вычисляется с помощью функции mean() библиотеки numpy."
   ]
  },
  {
   "cell_type": "code",
   "execution_count": 11,
   "metadata": {},
   "outputs": [
    {
     "name": "stdout",
     "output_type": "stream",
     "text": [
      "Среднее значение: 168.09\n"
     ]
    }
   ],
   "source": [
    "print(\"Среднее значение:\", np.mean(data['x']))"
   ]
  },
  {
   "cell_type": "markdown",
   "metadata": {},
   "source": [
    "***Дисперсия***     \n",
    "Дисперсия дает характеристику разброса данных вокруг центра (математического ожидания). То есть дисперсия - это математическое ожидание отклонений от математического ожидания.\n",
    "\n",
    "Дисперсия вычисляется с помощью функции var() библиотеки numpy."
   ]
  },
  {
   "cell_type": "code",
   "execution_count": 12,
   "metadata": {},
   "outputs": [
    {
     "name": "stdout",
     "output_type": "stream",
     "text": [
      "Дисперсия: 34.14190000000001\n"
     ]
    }
   ],
   "source": [
    "print(\"Дисперсия:\", np.var(data['x']))"
   ]
  },
  {
   "cell_type": "markdown",
   "metadata": {},
   "source": [
    "***Среднее квадратичное отклонение***     \n",
    "Среднеквадратичное отклонение характеризует меру рассеяния данных, но имеет те же единицы измерения что у исходных данных.\n",
    "\n",
    "Среднее квадратичное отклонение вычисляется с помощью функции std() библиотеки numpy."
   ]
  },
  {
   "cell_type": "code",
   "execution_count": 13,
   "metadata": {},
   "outputs": [
    {
     "name": "stdout",
     "output_type": "stream",
     "text": [
      "Среднее квадратичное отклонение: 5.843107050191705\n"
     ]
    }
   ],
   "source": [
    "print(\"Среднее квадратичное отклонение:\", np.std(data['x']))"
   ]
  },
  {
   "cell_type": "markdown",
   "metadata": {},
   "source": [
    "***Коэффициент вариации***     \n",
    "Среднее квадратическое отклонение дает абсолютную оценку меры разброса. Поэтому чтобы понять, насколько разброс велик относительно самих значений, требуется относительный показатель. Такой показатель называется коэффициентом вариации.\n",
    "\n",
    "Коэффициент вариации вычисляется с помощью модуля stats библиотеки scipy. "
   ]
  },
  {
   "cell_type": "code",
   "execution_count": 14,
   "metadata": {},
   "outputs": [
    {
     "name": "stdout",
     "output_type": "stream",
     "text": [
      "Коэффициент вариации: 0.03476177672789401\n"
     ]
    }
   ],
   "source": [
    "print(\"Коэффициент вариации:\", stats.variation(data['x']))"
   ]
  },
  {
   "cell_type": "markdown",
   "metadata": {},
   "source": [
    "***Коэффициенты эксцесса и асимметрии***    \n",
    "Коэффициент эксцесса $\\\\gamma_1$ — мера остроты пика по сравнению с нормальным распределением: $\\\\gamma_1=0$ в случае так называемого нормального эксцесса (в силу того, что у нормального распределения тоже $\\\\gamma_1=0$), $\\\\gamma_1<0$ в случае дефекта (т.н. отрицательный эксцесс, когда в окрестности моды более низкая и плоская вершина, чем у нормального распределения), $\\\\gamma_1>0$ в случае эксцесса (т.н. положительный эксцесс, когда в окрестности моды более острый и высокий пик, чем у нормального распределения).\n",
    "\n",
    "Коэффициент асимметрии $\\\\gamma_2$ — мера асимметричности: $\\\\gamma_2=0$ в случае симметричности распределения относительно мат.ожидания, $\\\\gamma_2<0$ в случае левой асимметрии (отн. мат.ожидания левый хвост длиннее правого),  $\\\\gamma_2>0$ в случае правой асимметрии (отн. мат.ожидания правый хвост длиннее левого).\n",
    "\n",
    "Коэффициенты эксцесса и асимметрии вычисляются с помощью функций модуля stats библиотеки scipy."
   ]
  },
  {
   "cell_type": "code",
   "execution_count": 15,
   "metadata": {},
   "outputs": [
    {
     "name": "stdout",
     "output_type": "stream",
     "text": [
      "Коэффициент эксцесса: -0.03710461649689645\n",
      "Коэффициент асимметрии: 0.23635184241070914\n"
     ]
    }
   ],
   "source": [
    "print(\"Коэффициент эксцесса:\", stats.kurtosis(data['x']))\n",
    "print(\"Коэффициент асимметрии:\", stats.skew(data['x']))"
   ]
  },
  {
   "cell_type": "markdown",
   "metadata": {},
   "source": [
    "## 5) Выдвинув гипотезу о нормальном распределении, проверьте ее критерием согласия Пирсона при уровне значимости а = 0.05.    \n",
    "Коэффициент корреляции Пирсона (лиейный коэффициент корреляции) описывает силу линейной зависимости между двумя случайными величинами. Он принимает значения в отрезке от 1 до -1. Значение к.к. Пирсона близкое к нулю говорит об отсутствии (слабой зависимости) линейной зависимости между случайными величинами. Значение близкое по модулю к еденице, наоборот говорит о сильной линейной зависимости. Стоит отметить, что случайные величины могут быть связаны ещё и нелинейной зависимостью, тогда к.к. Пирсона здесь плохой помошник. Кроме того, вычисляя к.к. по выборке можно совершенно случайно получить то или иное значение к.к., поэтому имеет смысл оперировать ещё и степенью уверенности для этого значения. В математической статистике для этого служит p-value - вероятность получить такое или ещё более выраженное значение случайно. На практике, особенно при небольших объемах выборки нулевого p-value добится не получается, поэтому довольствуются некоторыми малыми вероятностями того, что величниа (в нашем случае к.к) получена не случайно. Обычно, в соответствии с принципом практической невозможности маловероятных событий, принимают допустимую вероятность ошибки в 0.05 или 0.01. "
   ]
  },
  {
   "cell_type": "code",
   "execution_count": 16,
   "metadata": {},
   "outputs": [
    {
     "name": "stdout",
     "output_type": "stream",
     "text": [
      "0.7269800031688217 True\n"
     ]
    }
   ],
   "source": [
    "_a = 0.05\n",
    "r,p = stats.pearsonr(data['x'], data['y'])\n",
    "print(r, p < _a)"
   ]
  },
  {
   "cell_type": "markdown",
   "metadata": {},
   "source": [
    "## 6) Найдите точечные и интервальные оценки параметров распределения (доверительную вероятность принять равной 0.95).\n",
    "\n",
    "Оценки неизвестных параметров бывают двух видов – точечные и интервальные.   \n",
    "Точечная оценка - оценка имеющая конкретное числовое значение. Например, среднее арифметическое: $$\\frac{(x1+x2+...+xn)}{n}$$ где: x1,x2,...xn - выборочные значения; n - объем выборки.\n",
    "Интервальная оценка - оценка представляемая интервалом значений, внутри которого с задаваемой исследователем вероятностью 1 - α находится истинное значение оцениваемого параметра. Интервал в интервальной оценке называется доверительным интервалом, задаваемая исследователем вероятность, 1 - α, называется доверительной вероятностью. В практике статистических вычислений применяются стандартные значения доверительной вероятности: 0,95, 0,98 и 0,99 (95%, 98% и 99% соответственно)."
   ]
  },
  {
   "cell_type": "code",
   "execution_count": 17,
   "metadata": {},
   "outputs": [
    {
     "name": "stdout",
     "output_type": "stream",
     "text": [
      "Интервальная оценка:\n",
      "166.66 < a < 169.52\n"
     ]
    }
   ],
   "source": [
    "T_coef=1.98\n",
    "\n",
    "# Получаем средние значения интервалов\n",
    "def get_mean_intervals(a, b):\n",
    "    means=[]\n",
    "    for i in range(len(a)):\n",
    "        means.append((a[i]+b[i])/2)\n",
    "    return means\n",
    "\n",
    "# Умножаем полученные значения на значения частов этих интервалов\n",
    "def mean_mult_freq(means, freq):\n",
    "    m = []\n",
    "    for i in range(len(means)):\n",
    "        m.append(means[i]*freq[i])\n",
    "    return m\n",
    "\n",
    "# Вычисляем сумму значений, полученных на предыдущем шаге, затем из каждого элемента вычитаем эту сумму\n",
    "def get_d(means):\n",
    "    data = []\n",
    "    for item in means:\n",
    "        data.append(round(item-sum(mean_mult_freq(means, freq)), 2))\n",
    "    return data\n",
    "\n",
    "# Умножаем квадрат полученных значений на соответствующие им частоты\n",
    "def get_d2(d,freq):\n",
    "    data = []\n",
    "    for i in range(len(d)):\n",
    "        data.append(round(d[i]**2*freq[i], 2))\n",
    "    return data\n",
    "\n",
    "means = get_mean_intervals(a, b) \n",
    "\n",
    "d = get_d(means)\n",
    "d = get_d2(d,freq)\n",
    "\n",
    "# Несмещенное значение\n",
    "S = np.sqrt(sum(d)*100/99)\n",
    "# Значение для разброса интервальной оценки\n",
    "znach = T_coef*S/np.sqrt(len(data['x']))\n",
    "# Нижняя и верхняя граница интервала\n",
    "xmax=round(np.mean(data['x'])+znach, 2)\n",
    "xmin=round(np.mean(data['x'])-znach, 2)\n",
    "\n",
    "print(\"Интервальная оценка:\")\n",
    "print(str(xmin)+' < a < '+str(xmax))"
   ]
  },
  {
   "cell_type": "markdown",
   "metadata": {},
   "source": [
    "## 7) Сделать регрессионный анализ\n",
    "Для работы с регрессионным анализом воспользуемся модулем LinearRegression библиотеки sklearn."
   ]
  },
  {
   "cell_type": "code",
   "execution_count": 18,
   "metadata": {},
   "outputs": [],
   "source": [
    "lr=LinearRegression().fit(data[['x']], data[['y']])"
   ]
  },
  {
   "cell_type": "markdown",
   "metadata": {},
   "source": [
    "***Коэффициент линейной регрессии***   \n",
    "Коэффициенты линейной регрессии показывают скорость изменения зависимой переменной по данному фактору, при фиксированных остальных факторах (в линейной модели эта скорость постоянна)."
   ]
  },
  {
   "cell_type": "code",
   "execution_count": 19,
   "metadata": {},
   "outputs": [
    {
     "name": "stdout",
     "output_type": "stream",
     "text": [
      "Коэффициент линейной регрессии: 0.8300709685166905\n"
     ]
    }
   ],
   "source": [
    "print(\"Коэффициент линейной регрессии:\", lr.coef_[0][0])"
   ]
  },
  {
   "cell_type": "markdown",
   "metadata": {},
   "source": [
    "***R-квадрат***    \n",
    "Коэффициент детерминации принимает значения от 0 до 1. Чем ближе значение коэффициента к 1, тем сильнее зависимость. При оценке регрессионных моделей это интерпретируется как соответствие модели данным. Для приемлемых моделей предполагается, что коэффициент детерминации должен быть хотя бы не меньше 50% (в этом случае коэффициент множественной корреляции превышает по модулю 70%). Модели с коэффициентом детерминации выше 80% можно признать достаточно хорошими."
   ]
  },
  {
   "cell_type": "code",
   "execution_count": 20,
   "metadata": {},
   "outputs": [
    {
     "name": "stdout",
     "output_type": "stream",
     "text": [
      "R-квадрат: 0.5284999250073401\n"
     ]
    }
   ],
   "source": [
    "print(\"R-квадрат:\", lr.score(data[['x']], data[['y']]))"
   ]
  },
  {
   "cell_type": "markdown",
   "metadata": {},
   "source": [
    "***Множественный R***    \n",
    "Множественный коэффициент корреляции R (множественное R) - это положительный квадратный корень из R-квадрата. Величина коэффициента корреляции отражает силы связи."
   ]
  },
  {
   "cell_type": "code",
   "execution_count": 21,
   "metadata": {},
   "outputs": [
    {
     "name": "stdout",
     "output_type": "stream",
     "text": [
      "Множественный R: 0.7269800031688215\n"
     ]
    }
   ],
   "source": [
    "print(\"Множественный R:\", data.corr()['y'][0])"
   ]
  },
  {
   "cell_type": "markdown",
   "metadata": {},
   "source": [
    "***Уравнение регрессии***    \n",
    "Используя среднее значение выборки по X и Y, и коэффициент линейной регресии, составим уравнение регрессии:"
   ]
  },
  {
   "cell_type": "code",
   "execution_count": 22,
   "metadata": {},
   "outputs": [
    {
     "name": "stdout",
     "output_type": "stream",
     "text": [
      "y=0.83*(x-168.09)+63.22\n"
     ]
    }
   ],
   "source": [
    "k = round(lr.coef_[0][0], 2)\n",
    "mx = round(np.mean(data['x']), 2)\n",
    "my = round(np.mean(data['y']), 2)\n",
    "print('y='+str(k)+'*'+'(x-'+str(mx)+')'+'+'+str(my))"
   ]
  },
  {
   "cell_type": "markdown",
   "metadata": {},
   "source": [
    "Построим график составленной прямой. "
   ]
  },
  {
   "cell_type": "code",
   "execution_count": 23,
   "metadata": {},
   "outputs": [
    {
     "data": {
      "image/png": "[encoded data removed]",
      "text/plain": [
       "<Figure size 432x288 with 1 Axes>"
      ]
     },
     "metadata": {},
     "output_type": "display_data"
    }
   ],
   "source": [
    "plt.plot(data[['x']], lr.predict(data[['x']]), color='red')\n",
    "plt.scatter(data['x'], data['y'])\n",
    "plt.show()"
   ]
  },
  {
   "cell_type": "markdown",
   "metadata": {},
   "source": [
    "## 8) Дисперсионный анализ\n",
    "Метод наименьших квадратов (англ. Ordinary Least Squares, OLS) — математический метод, применяемый для решения различных задач, основанный на минимизации суммы квадратов отклонений некоторых функций от искомых переменных.   \n",
    "Выполним метод наименьших квадратов, установив, что Х зависит от Y (Y~X). Заполняем таблицу."
   ]
  },
  {
   "cell_type": "code",
   "execution_count": 24,
   "metadata": {},
   "outputs": [
    {
     "data": {
      "text/html": [
       "<div>\n",
       "<style scoped>\n",
       "    .dataframe tbody tr th:only-of-type {\n",
       "        vertical-align: middle;\n",
       "    }\n",
       "\n",
       "    .dataframe tbody tr th {\n",
       "        vertical-align: top;\n",
       "    }\n",
       "\n",
       "    .dataframe thead th {\n",
       "        text-align: right;\n",
       "    }\n",
       "</style>\n",
       "<table border=\"1\" class=\"dataframe\">\n",
       "  <thead>\n",
       "    <tr style=\"text-align: right;\">\n",
       "      <th></th>\n",
       "      <th>df</th>\n",
       "      <th>sum_sq</th>\n",
       "      <th>mean_sq</th>\n",
       "      <th>F</th>\n",
       "      <th>PR(&gt;F)</th>\n",
       "    </tr>\n",
       "  </thead>\n",
       "  <tbody>\n",
       "    <tr>\n",
       "      <th>x</th>\n",
       "      <td>1.0</td>\n",
       "      <td>2352.437726</td>\n",
       "      <td>2352.437726</td>\n",
       "      <td>109.847263</td>\n",
       "      <td>1.097766e-17</td>\n",
       "    </tr>\n",
       "    <tr>\n",
       "      <th>Residual</th>\n",
       "      <td>98.0</td>\n",
       "      <td>2098.722274</td>\n",
       "      <td>21.415533</td>\n",
       "      <td>NaN</td>\n",
       "      <td>NaN</td>\n",
       "    </tr>\n",
       "  </tbody>\n",
       "</table>\n",
       "</div>"
      ],
      "text/plain": [
       "            df       sum_sq      mean_sq           F        PR(>F)\n",
       "x          1.0  2352.437726  2352.437726  109.847263  1.097766e-17\n",
       "Residual  98.0  2098.722274    21.415533         NaN           NaN"
      ]
     },
     "execution_count": 24,
     "metadata": {},
     "output_type": "execute_result"
    }
   ],
   "source": [
    "cw_lm=ols('y~x',data).fit()\n",
    "sm.stats.anova_lm(cw_lm)"
   ]
  },
  {
   "cell_type": "markdown",
   "metadata": {},
   "source": [
    "Функция summary() позволяет узнать множество показателей дисперсионного анализа. Среди них есть стандартная ошибка, t-статистика, сумма квадратов, средний квадрат и другие."
   ]
  },
  {
   "cell_type": "code",
   "execution_count": 25,
   "metadata": {},
   "outputs": [
    {
     "data": {
      "text/html": [
       "<table class=\"simpletable\">\n",
       "<caption>OLS Regression Results</caption>\n",
       "<tr>\n",
       "  <th>Dep. Variable:</th>            <td>y</td>        <th>  R-squared:         </th> <td>   0.528</td>\n",
       "</tr>\n",
       "<tr>\n",
       "  <th>Model:</th>                   <td>OLS</td>       <th>  Adj. R-squared:    </th> <td>   0.524</td>\n",
       "</tr>\n",
       "<tr>\n",
       "  <th>Method:</th>             <td>Least Squares</td>  <th>  F-statistic:       </th> <td>   109.8</td>\n",
       "</tr>\n",
       "<tr>\n",
       "  <th>Date:</th>             <td>Thu, 17 May 2018</td> <th>  Prob (F-statistic):</th> <td>1.10e-17</td>\n",
       "</tr>\n",
       "<tr>\n",
       "  <th>Time:</th>                 <td>00:46:48</td>     <th>  Log-Likelihood:    </th> <td> -294.09</td>\n",
       "</tr>\n",
       "<tr>\n",
       "  <th>No. Observations:</th>      <td>   100</td>      <th>  AIC:               </th> <td>   592.2</td>\n",
       "</tr>\n",
       "<tr>\n",
       "  <th>Df Residuals:</th>          <td>    98</td>      <th>  BIC:               </th> <td>   597.4</td>\n",
       "</tr>\n",
       "<tr>\n",
       "  <th>Df Model:</th>              <td>     1</td>      <th>                     </th>     <td> </td>   \n",
       "</tr>\n",
       "<tr>\n",
       "  <th>Covariance Type:</th>      <td>nonrobust</td>    <th>                     </th>     <td> </td>   \n",
       "</tr>\n",
       "</table>\n",
       "<table class=\"simpletable\">\n",
       "<tr>\n",
       "      <td></td>         <th>coef</th>     <th>std err</th>      <th>t</th>      <th>P>|t|</th>  <th>[0.025</th>    <th>0.975]</th>  \n",
       "</tr>\n",
       "<tr>\n",
       "  <th>Intercept</th> <td>  -76.3066</td> <td>   13.321</td> <td>   -5.728</td> <td> 0.000</td> <td> -102.741</td> <td>  -49.872</td>\n",
       "</tr>\n",
       "<tr>\n",
       "  <th>x</th>         <td>    0.8301</td> <td>    0.079</td> <td>   10.481</td> <td> 0.000</td> <td>    0.673</td> <td>    0.987</td>\n",
       "</tr>\n",
       "</table>\n",
       "<table class=\"simpletable\">\n",
       "<tr>\n",
       "  <th>Omnibus:</th>       <td> 0.589</td> <th>  Durbin-Watson:     </th> <td>   2.267</td>\n",
       "</tr>\n",
       "<tr>\n",
       "  <th>Prob(Omnibus):</th> <td> 0.745</td> <th>  Jarque-Bera (JB):  </th> <td>   0.508</td>\n",
       "</tr>\n",
       "<tr>\n",
       "  <th>Skew:</th>          <td> 0.172</td> <th>  Prob(JB):          </th> <td>   0.776</td>\n",
       "</tr>\n",
       "<tr>\n",
       "  <th>Kurtosis:</th>      <td> 2.942</td> <th>  Cond. No.          </th> <td>4.84e+03</td>\n",
       "</tr>\n",
       "</table>"
      ],
      "text/plain": [
       "<class 'statsmodels.iolib.summary.Summary'>\n",
       "\"\"\"\n",
       "                            OLS Regression Results                            \n",
       "==============================================================================\n",
       "Dep. Variable:                      y   R-squared:                       0.528\n",
       "Model:                            OLS   Adj. R-squared:                  0.524\n",
       "Method:                 Least Squares   F-statistic:                     109.8\n",
       "Date:                Thu, 17 May 2018   Prob (F-statistic):           1.10e-17\n",
       "Time:                        00:46:48   Log-Likelihood:                -294.09\n",
       "No. Observations:                 100   AIC:                             592.2\n",
       "Df Residuals:                      98   BIC:                             597.4\n",
       "Df Model:                           1                                         \n",
       "Covariance Type:            nonrobust                                         \n",
       "==============================================================================\n",
       "                 coef    std err          t      P>|t|      [0.025      0.975]\n",
       "------------------------------------------------------------------------------\n",
       "Intercept    -76.3066     13.321     -5.728      0.000    -102.741     -49.872\n",
       "x              0.8301      0.079     10.481      0.000       0.673       0.987\n",
       "==============================================================================\n",
       "Omnibus:                        0.589   Durbin-Watson:                   2.267\n",
       "Prob(Omnibus):                  0.745   Jarque-Bera (JB):                0.508\n",
       "Skew:                           0.172   Prob(JB):                        0.776\n",
       "Kurtosis:                       2.942   Cond. No.                     4.84e+03\n",
       "==============================================================================\n",
       "\n",
       "Warnings:\n",
       "[1] Standard Errors assume that the covariance matrix of the errors is correctly specified.\n",
       "[2] The condition number is large, 4.84e+03. This might indicate that there are\n",
       "strong multicollinearity or other numerical problems.\n",
       "\"\"\""
      ]
     },
     "execution_count": 25,
     "metadata": {},
     "output_type": "execute_result"
    }
   ],
   "source": [
    "cw_lm.summary()"
   ]
  },
  {
   "cell_type": "markdown",
   "metadata": {},
   "source": [
    "## Вывод\n",
    "\n",
    "В данной работе показано множество возможностей языка Python для задач математической статистики."
   ]
  }
 ],
 "metadata": {
  "kernelspec": {
   "display_name": "Python 3",
   "language": "python",
   "name": "python3"
  },
  "language_info": {
   "codemirror_mode": {
    "name": "ipython",
    "version": 3
   },
   "file_extension": ".py",
   "mimetype": "text/x-python",
   "name": "python",
   "nbconvert_exporter": "python",
   "pygments_lexer": "ipython3",
   "version": "3.5.2"
  }
 },
 "nbformat": 4,
 "nbformat_minor": 2
}
